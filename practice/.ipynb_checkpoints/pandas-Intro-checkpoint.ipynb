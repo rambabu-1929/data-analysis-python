{
 "cells": [
  {
   "cell_type": "markdown",
   "id": "81e1297a",
   "metadata": {},
   "source": [
    "# Pandas"
   ]
  },
  {
   "cell_type": "code",
   "execution_count": 9,
   "id": "2858e2c1",
   "metadata": {},
   "outputs": [],
   "source": [
    "import pandas as pd\n",
    "import random"
   ]
  },
  {
   "cell_type": "code",
   "execution_count": 2,
   "id": "5d512de5",
   "metadata": {},
   "outputs": [],
   "source": [
    "cars = ['BMW','Audi','Volvo','Tata']"
   ]
  },
  {
   "cell_type": "code",
   "execution_count": 8,
   "id": "21526b65",
   "metadata": {},
   "outputs": [
    {
     "data": {
      "text/plain": [
       "0      BMW\n",
       "1     Audi\n",
       "2    Volvo\n",
       "3     Tata\n",
       "dtype: object"
      ]
     },
     "execution_count": 8,
     "metadata": {},
     "output_type": "execute_result"
    }
   ],
   "source": [
    "pd.Series(cars)"
   ]
  },
  {
   "cell_type": "code",
   "execution_count": 24,
   "id": "1234d1ad",
   "metadata": {},
   "outputs": [],
   "source": [
    "rand_num = [2,3,5,76,8,0]"
   ]
  },
  {
   "cell_type": "code",
   "execution_count": 25,
   "id": "709c0b66",
   "metadata": {},
   "outputs": [
    {
     "data": {
      "text/plain": [
       "0     2\n",
       "1     3\n",
       "2     5\n",
       "3    76\n",
       "4     8\n",
       "5     0\n",
       "dtype: int64"
      ]
     },
     "execution_count": 25,
     "metadata": {},
     "output_type": "execute_result"
    }
   ],
   "source": [
    "pd.Series(rand_num)"
   ]
  },
  {
   "cell_type": "code",
   "execution_count": 26,
   "id": "fe1cf48d",
   "metadata": {},
   "outputs": [],
   "source": [
    "is_it = ['raw','humble','1']"
   ]
  },
  {
   "cell_type": "code",
   "execution_count": 27,
   "id": "167b966a",
   "metadata": {},
   "outputs": [
    {
     "data": {
      "text/plain": [
       "0       raw\n",
       "1    humble\n",
       "2         1\n",
       "dtype: object"
      ]
     },
     "execution_count": 27,
     "metadata": {},
     "output_type": "execute_result"
    }
   ],
   "source": [
    "pd.Series(is_it)"
   ]
  },
  {
   "cell_type": "code",
   "execution_count": null,
   "id": "01bf0236",
   "metadata": {},
   "outputs": [],
   "source": []
  }
 ],
 "metadata": {
  "kernelspec": {
   "display_name": "Python 3 (ipykernel)",
   "language": "python",
   "name": "python3"
  },
  "language_info": {
   "codemirror_mode": {
    "name": "ipython",
    "version": 3
   },
   "file_extension": ".py",
   "mimetype": "text/x-python",
   "name": "python",
   "nbconvert_exporter": "python",
   "pygments_lexer": "ipython3",
   "version": "3.11.7"
  }
 },
 "nbformat": 4,
 "nbformat_minor": 5
}
