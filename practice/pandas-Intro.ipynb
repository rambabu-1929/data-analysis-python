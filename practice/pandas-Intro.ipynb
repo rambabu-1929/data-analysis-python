{
 "cells": [
  {
   "cell_type": "markdown",
   "id": "81e1297a",
   "metadata": {},
   "source": [
    "# Pandas"
   ]
  },
  {
   "cell_type": "code",
   "execution_count": 1,
   "id": "2858e2c1",
   "metadata": {},
   "outputs": [],
   "source": [
    "import pandas as pd\n",
    "import random"
   ]
  },
  {
   "cell_type": "code",
   "execution_count": 2,
   "id": "5d512de5",
   "metadata": {},
   "outputs": [],
   "source": [
    "cars = ['BMW','Audi','Volvo','Tata']"
   ]
  },
  {
   "cell_type": "code",
   "execution_count": 3,
   "id": "21526b65",
   "metadata": {},
   "outputs": [
    {
     "data": {
      "text/plain": [
       "0      BMW\n",
       "1     Audi\n",
       "2    Volvo\n",
       "3     Tata\n",
       "dtype: object"
      ]
     },
     "execution_count": 3,
     "metadata": {},
     "output_type": "execute_result"
    }
   ],
   "source": [
    "pd.Series(cars)"
   ]
  },
  {
   "cell_type": "code",
   "execution_count": 24,
   "id": "1234d1ad",
   "metadata": {},
   "outputs": [],
   "source": [
    "rand_num = [2,3,5,76,8,0]"
   ]
  },
  {
   "cell_type": "code",
   "execution_count": 25,
   "id": "709c0b66",
   "metadata": {},
   "outputs": [
    {
     "data": {
      "text/plain": [
       "0     2\n",
       "1     3\n",
       "2     5\n",
       "3    76\n",
       "4     8\n",
       "5     0\n",
       "dtype: int64"
      ]
     },
     "execution_count": 25,
     "metadata": {},
     "output_type": "execute_result"
    }
   ],
   "source": [
    "pd.Series(rand_num)"
   ]
  },
  {
   "cell_type": "code",
   "execution_count": 26,
   "id": "fe1cf48d",
   "metadata": {},
   "outputs": [],
   "source": [
    "is_it = ['raw','humble','1']"
   ]
  },
  {
   "cell_type": "code",
   "execution_count": 27,
   "id": "167b966a",
   "metadata": {},
   "outputs": [
    {
     "data": {
      "text/plain": [
       "0       raw\n",
       "1    humble\n",
       "2         1\n",
       "dtype: object"
      ]
     },
     "execution_count": 27,
     "metadata": {},
     "output_type": "execute_result"
    }
   ],
   "source": [
    "pd.Series(is_it)"
   ]
  },
  {
   "cell_type": "code",
   "execution_count": 5,
   "id": "01bf0236",
   "metadata": {},
   "outputs": [],
   "source": [
    "new_dict = {\n",
    "    'item' : 'rice',\n",
    "    'Price' : 25.4,\n",
    "    'discount' : 0.5\n",
    "}"
   ]
  },
  {
   "cell_type": "code",
   "execution_count": 6,
   "id": "ccbe79ec",
   "metadata": {},
   "outputs": [
    {
     "data": {
      "text/plain": [
       "{'item': 'rice', 'Price': 25.4, 'discount': 0.5}"
      ]
     },
     "execution_count": 6,
     "metadata": {},
     "output_type": "execute_result"
    }
   ],
   "source": [
    "new_dict"
   ]
  },
  {
   "cell_type": "code",
   "execution_count": 14,
   "id": "1c2d38f2",
   "metadata": {},
   "outputs": [
    {
     "data": {
      "text/plain": [
       "item        rice\n",
       "Price       25.4\n",
       "discount     0.5\n",
       "dtype: object"
      ]
     },
     "execution_count": 14,
     "metadata": {},
     "output_type": "execute_result"
    }
   ],
   "source": [
    "pd.Series(new_dict)"
   ]
  },
  {
   "cell_type": "code",
   "execution_count": 15,
   "id": "15064c40",
   "metadata": {},
   "outputs": [
    {
     "data": {
      "text/plain": [
       "0    29.99\n",
       "1    12.33\n",
       "2    34.55\n",
       "3    46.21\n",
       "dtype: float64"
      ]
     },
     "execution_count": 15,
     "metadata": {},
     "output_type": "execute_result"
    }
   ],
   "source": [
    "prices = pd.Series([29.99,12.33,34.55,46.21])\n",
    "prices"
   ]
  },
  {
   "cell_type": "code",
   "execution_count": 16,
   "id": "dd886583",
   "metadata": {},
   "outputs": [
    {
     "data": {
      "text/plain": [
       "123.08000000000001"
      ]
     },
     "execution_count": 16,
     "metadata": {},
     "output_type": "execute_result"
    }
   ],
   "source": [
    "prices.sum()"
   ]
  },
  {
   "cell_type": "code",
   "execution_count": 17,
   "id": "7611c498",
   "metadata": {},
   "outputs": [
    {
     "data": {
      "text/plain": [
       "46.21"
      ]
     },
     "execution_count": 17,
     "metadata": {},
     "output_type": "execute_result"
    }
   ],
   "source": [
    "prices.max()"
   ]
  },
  {
   "cell_type": "code",
   "execution_count": 18,
   "id": "0c05b972",
   "metadata": {},
   "outputs": [
    {
     "data": {
      "text/plain": [
       "12.33"
      ]
     },
     "execution_count": 18,
     "metadata": {},
     "output_type": "execute_result"
    }
   ],
   "source": [
    "prices.min()"
   ]
  },
  {
   "cell_type": "code",
   "execution_count": 19,
   "id": "67bf0587",
   "metadata": {},
   "outputs": [
    {
     "data": {
      "text/plain": [
       "30.770000000000003"
      ]
     },
     "execution_count": 19,
     "metadata": {},
     "output_type": "execute_result"
    }
   ],
   "source": [
    "prices.mean()"
   ]
  },
  {
   "cell_type": "code",
   "execution_count": 23,
   "id": "72b24eff",
   "metadata": {},
   "outputs": [
    {
     "data": {
      "text/plain": [
       "True"
      ]
     },
     "execution_count": 23,
     "metadata": {},
     "output_type": "execute_result"
    }
   ],
   "source": [
    "prices.any(axis=0)"
   ]
  },
  {
   "cell_type": "code",
   "execution_count": null,
   "id": "367efc15",
   "metadata": {},
   "outputs": [],
   "source": []
  }
 ],
 "metadata": {
  "kernelspec": {
   "display_name": "Python 3 (ipykernel)",
   "language": "python",
   "name": "python3"
  },
  "language_info": {
   "codemirror_mode": {
    "name": "ipython",
    "version": 3
   },
   "file_extension": ".py",
   "mimetype": "text/x-python",
   "name": "python",
   "nbconvert_exporter": "python",
   "pygments_lexer": "ipython3",
   "version": "3.11.7"
  }
 },
 "nbformat": 4,
 "nbformat_minor": 5
}
