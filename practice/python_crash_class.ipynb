{
 "cells": [
  {
   "cell_type": "markdown",
   "id": "5018b453",
   "metadata": {},
   "source": [
    "# Python Carsh Course"
   ]
  },
  {
   "cell_type": "markdown",
   "id": "a4e65433",
   "metadata": {},
   "source": [
    "<p><b>Numbers</b></p>"
   ]
  },
  {
   "cell_type": "code",
   "execution_count": 1,
   "id": "45073b8b",
   "metadata": {},
   "outputs": [
    {
     "data": {
      "text/plain": [
       "5"
      ]
     },
     "execution_count": 1,
     "metadata": {},
     "output_type": "execute_result"
    }
   ],
   "source": [
    "2 + 3"
   ]
  },
  {
   "cell_type": "code",
   "execution_count": 2,
   "id": "3a6c138d",
   "metadata": {},
   "outputs": [
    {
     "data": {
      "text/plain": [
       "6.0"
      ]
     },
     "execution_count": 2,
     "metadata": {},
     "output_type": "execute_result"
    }
   ],
   "source": [
    "2.0 + 4"
   ]
  },
  {
   "cell_type": "code",
   "execution_count": 3,
   "id": "9cbfaef8",
   "metadata": {},
   "outputs": [
    {
     "data": {
      "text/plain": [
       "-1"
      ]
     },
     "execution_count": 3,
     "metadata": {},
     "output_type": "execute_result"
    }
   ],
   "source": [
    "3 - 4"
   ]
  },
  {
   "cell_type": "code",
   "execution_count": 4,
   "id": "4fed6f04",
   "metadata": {},
   "outputs": [
    {
     "data": {
      "text/plain": [
       "-1.0"
      ]
     },
     "execution_count": 4,
     "metadata": {},
     "output_type": "execute_result"
    }
   ],
   "source": [
    "3.0 - 4"
   ]
  },
  {
   "cell_type": "code",
   "execution_count": 7,
   "id": "98aabcf8",
   "metadata": {},
   "outputs": [
    {
     "data": {
      "text/plain": [
       "2.0"
      ]
     },
     "execution_count": 7,
     "metadata": {},
     "output_type": "execute_result"
    }
   ],
   "source": [
    "4 / 2"
   ]
  },
  {
   "cell_type": "code",
   "execution_count": 9,
   "id": "10c7b1e4",
   "metadata": {},
   "outputs": [
    {
     "data": {
      "text/plain": [
       "1"
      ]
     },
     "execution_count": 9,
     "metadata": {},
     "output_type": "execute_result"
    }
   ],
   "source": [
    "4 // 3"
   ]
  },
  {
   "cell_type": "code",
   "execution_count": 11,
   "id": "441fecec",
   "metadata": {},
   "outputs": [
    {
     "data": {
      "text/plain": [
       "64"
      ]
     },
     "execution_count": 11,
     "metadata": {},
     "output_type": "execute_result"
    }
   ],
   "source": [
    "4 ** 3"
   ]
  },
  {
   "cell_type": "code",
   "execution_count": 12,
   "id": "0bd3700c",
   "metadata": {},
   "outputs": [
    {
     "data": {
      "text/plain": [
       "22"
      ]
     },
     "execution_count": 12,
     "metadata": {},
     "output_type": "execute_result"
    }
   ],
   "source": [
    "2 + 3 * 5 + 5"
   ]
  },
  {
   "cell_type": "code",
   "execution_count": 13,
   "id": "4a189b4b",
   "metadata": {},
   "outputs": [],
   "source": [
    "my_num = 2"
   ]
  },
  {
   "cell_type": "code",
   "execution_count": 16,
   "id": "4219b2bd",
   "metadata": {},
   "outputs": [],
   "source": [
    "#variable names cannot start with numbers\n",
    "#variable should follow snakecase or camelcase pattern\n",
    "# variable names cannot start with symbols"
   ]
  },
  {
   "cell_type": "markdown",
   "id": "7c0b57de",
   "metadata": {},
   "source": [
    "# Strings"
   ]
  },
  {
   "cell_type": "code",
   "execution_count": 18,
   "id": "6b119bf3",
   "metadata": {},
   "outputs": [],
   "source": [
    "my_str = 'Hello DataAnalysis'"
   ]
  },
  {
   "cell_type": "code",
   "execution_count": 19,
   "id": "36d84819",
   "metadata": {},
   "outputs": [
    {
     "data": {
      "text/plain": [
       "'Hello DataAnalysis'"
      ]
     },
     "execution_count": 19,
     "metadata": {},
     "output_type": "execute_result"
    }
   ],
   "source": [
    "my_str"
   ]
  },
  {
   "cell_type": "code",
   "execution_count": 25,
   "id": "6938b4bc",
   "metadata": {},
   "outputs": [
    {
     "name": "stdout",
     "output_type": "stream",
     "text": [
      "hi I'am tutorial\n"
     ]
    }
   ],
   "source": [
    "print('hi I\\'am tutorial')"
   ]
  },
  {
   "cell_type": "code",
   "execution_count": 24,
   "id": "35df825b",
   "metadata": {},
   "outputs": [
    {
     "name": "stdout",
     "output_type": "stream",
     "text": [
      "Hello DataAnalysis\n"
     ]
    }
   ],
   "source": [
    "print(my_str)"
   ]
  },
  {
   "cell_type": "code",
   "execution_count": 26,
   "id": "3c6f1516",
   "metadata": {},
   "outputs": [],
   "source": [
    "str_for_index = 'hello'"
   ]
  },
  {
   "cell_type": "code",
   "execution_count": 28,
   "id": "3380d6c6",
   "metadata": {},
   "outputs": [
    {
     "name": "stdout",
     "output_type": "stream",
     "text": [
      "o\n"
     ]
    }
   ],
   "source": [
    "print(str_for_index[4])"
   ]
  },
  {
   "cell_type": "code",
   "execution_count": 31,
   "id": "557e3948",
   "metadata": {},
   "outputs": [
    {
     "data": {
      "text/plain": [
       "'ell'"
      ]
     },
     "execution_count": 31,
     "metadata": {},
     "output_type": "execute_result"
    }
   ],
   "source": [
    "str_for_index[-4:-1]"
   ]
  },
  {
   "cell_type": "markdown",
   "id": "01dc04a9",
   "metadata": {},
   "source": [
    "# Lists"
   ]
  },
  {
   "cell_type": "code",
   "execution_count": 32,
   "id": "bd816ec2",
   "metadata": {},
   "outputs": [],
   "source": [
    "my_list = [1,'a',True, -1,{'name': 'Ram'}]"
   ]
  },
  {
   "cell_type": "code",
   "execution_count": 35,
   "id": "ca6e2c06",
   "metadata": {},
   "outputs": [
    {
     "name": "stdout",
     "output_type": "stream",
     "text": [
      "Ram\n"
     ]
    }
   ],
   "source": [
    "print(my_list[4]['name'])"
   ]
  },
  {
   "cell_type": "markdown",
   "id": "98b77d39",
   "metadata": {},
   "source": [
    "# Dictionaries"
   ]
  },
  {
   "cell_type": "code",
   "execution_count": 38,
   "id": "c8ac440b",
   "metadata": {},
   "outputs": [],
   "source": [
    "d = {\n",
    "    'key1': 1,\n",
    "    'key2': 2,\n",
    "    'key3': 3,\n",
    "    'key4':{\n",
    "        'sub-key':'hello',\n",
    "        'sube-keyo':'bonjour'\n",
    "    }\n",
    "}"
   ]
  },
  {
   "cell_type": "code",
   "execution_count": 39,
   "id": "8847a9a9",
   "metadata": {},
   "outputs": [
    {
     "data": {
      "text/plain": [
       "'bonjour'"
      ]
     },
     "execution_count": 39,
     "metadata": {},
     "output_type": "execute_result"
    }
   ],
   "source": [
    "d['key4']['sube-keyo']"
   ]
  },
  {
   "cell_type": "markdown",
   "id": "7ddf8062",
   "metadata": {},
   "source": [
    "# Tuples"
   ]
  },
  {
   "cell_type": "code",
   "execution_count": 40,
   "id": "75225662",
   "metadata": {},
   "outputs": [],
   "source": [
    "t = (1,2,4)"
   ]
  },
  {
   "cell_type": "code",
   "execution_count": 41,
   "id": "6cafb136",
   "metadata": {},
   "outputs": [
    {
     "ename": "TypeError",
     "evalue": "'tuple' object does not support item assignment",
     "output_type": "error",
     "traceback": [
      "\u001b[0;31m---------------------------------------------------------------------------\u001b[0m",
      "\u001b[0;31mTypeError\u001b[0m                                 Traceback (most recent call last)",
      "Cell \u001b[0;32mIn[41], line 1\u001b[0m\n\u001b[0;32m----> 1\u001b[0m t[\u001b[38;5;241m0\u001b[39m] \u001b[38;5;241m=\u001b[39m \u001b[38;5;241m4\u001b[39m\n",
      "\u001b[0;31mTypeError\u001b[0m: 'tuple' object does not support item assignment"
     ]
    }
   ],
   "source": [
    "t[0] = 4"
   ]
  },
  {
   "cell_type": "markdown",
   "id": "d9be090f",
   "metadata": {},
   "source": [
    "# sets"
   ]
  },
  {
   "cell_type": "code",
   "execution_count": 42,
   "id": "6b131356",
   "metadata": {},
   "outputs": [],
   "source": [
    "s = {1,2,3,4}"
   ]
  },
  {
   "cell_type": "code",
   "execution_count": 43,
   "id": "df125101",
   "metadata": {},
   "outputs": [
    {
     "data": {
      "text/plain": [
       "set"
      ]
     },
     "execution_count": 43,
     "metadata": {},
     "output_type": "execute_result"
    }
   ],
   "source": [
    "type(s)"
   ]
  },
  {
   "cell_type": "code",
   "execution_count": 45,
   "id": "950a967f",
   "metadata": {},
   "outputs": [],
   "source": [
    "s = set([1,1,2,2,3,3,3,4,4,4,5,5,5,6,6])"
   ]
  },
  {
   "cell_type": "code",
   "execution_count": 46,
   "id": "e90f39bf",
   "metadata": {},
   "outputs": [
    {
     "data": {
      "text/plain": [
       "{1, 2, 3, 4, 5, 6}"
      ]
     },
     "execution_count": 46,
     "metadata": {},
     "output_type": "execute_result"
    }
   ],
   "source": [
    "s"
   ]
  },
  {
   "cell_type": "code",
   "execution_count": null,
   "id": "e94d9ea1",
   "metadata": {},
   "outputs": [],
   "source": []
  }
 ],
 "metadata": {
  "kernelspec": {
   "display_name": "Python 3 (ipykernel)",
   "language": "python",
   "name": "python3"
  },
  "language_info": {
   "codemirror_mode": {
    "name": "ipython",
    "version": 3
   },
   "file_extension": ".py",
   "mimetype": "text/x-python",
   "name": "python",
   "nbconvert_exporter": "python",
   "pygments_lexer": "ipython3",
   "version": "3.11.7"
  }
 },
 "nbformat": 4,
 "nbformat_minor": 5
}
